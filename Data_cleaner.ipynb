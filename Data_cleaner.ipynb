{
 "cells": [
  {
   "cell_type": "code",
   "execution_count": 9,
   "id": "80fad57b-217f-4626-9392-b787ab707ed2",
   "metadata": {},
   "outputs": [
    {
     "name": "stdout",
     "output_type": "stream",
     "text": [
      "Transaction ID              object\n",
      "Customer ID                 object\n",
      "Category                    object\n",
      "Item                        object\n",
      "Price Per Unit             float64\n",
      "Quantity                   float64\n",
      "Total Spent                float64\n",
      "Payment Method              object\n",
      "Location                    object\n",
      "Transaction Date    datetime64[ns]\n",
      "Discount Applied              bool\n",
      "Year                         int32\n",
      "Month                        int32\n",
      "Day                          int32\n",
      "dtype: object\n"
     ]
    },
    {
     "name": "stderr",
     "output_type": "stream",
     "text": [
      "C:\\Users\\mesva\\AppData\\Local\\Temp\\ipykernel_6104\\3864278363.py:28: FutureWarning: Downcasting object dtype arrays on .fillna, .ffill, .bfill is deprecated and will change in a future version. Call result.infer_objects(copy=False) instead. To opt-in to the future behavior, set `pd.set_option('future.no_silent_downcasting', True)`\n",
      "  df['Discount Applied'] = df['Discount Applied'].fillna(False)\n"
     ]
    }
   ],
   "source": [
    "import pandas as pd\n",
    "\n",
    "# 1. Load dataset\n",
    "df = pd.read_csv(\"retail_store_sales.csv\")\n",
    "\n",
    "# 2. Clean Item column (fill missing with mode)\n",
    "df['Item'] = df['Item'].fillna(df['Item'].mode()[0])\n",
    "\n",
    "# 3. Convert numeric columns\n",
    "df['Price Per Unit'] = pd.to_numeric(df['Price Per Unit'], errors='coerce')\n",
    "df['Quantity'] = pd.to_numeric(df['Quantity'], errors='coerce')\n",
    "\n",
    "# 4. Fill missing numeric values with median\n",
    "df['Price Per Unit'] = df['Price Per Unit'].fillna(df['Price Per Unit'].median())\n",
    "df['Quantity'] = df['Quantity'].fillna(df['Quantity'].median())\n",
    "\n",
    "# 5. Recalculate Total Spent\n",
    "df['Total Spent'] = df['Price Per Unit'] * df['Quantity']\n",
    "\n",
    "# 6. Fill Discount Applied with False\n",
    "# Convert Discount Applied to uppercase strings\n",
    "df['Discount Applied'] = df['Discount Applied'].astype(str).str.upper()\n",
    "\n",
    "# Map TRUE/FALSE strings to boolean\n",
    "df['Discount Applied'] = df['Discount Applied'].map({'TRUE': True, 'FALSE': False})\n",
    "\n",
    "# Fill any missing values with False\n",
    "df['Discount Applied'] = df['Discount Applied'].fillna(False)\n",
    "\n",
    "# 7. Convert Transaction Date to datetime\n",
    "df['Transaction Date'] = pd.to_datetime(df['Transaction Date'], errors='coerce')\n",
    "\n",
    "# 8. Extract useful parts of date (optional)\n",
    "df['Year'] = df['Transaction Date'].dt.year\n",
    "df['Month'] = df['Transaction Date'].dt.month\n",
    "df['Day'] = df['Transaction Date'].dt.day\n",
    "\n",
    "# # 9. Save cleaned data to Excel\n",
    "# df.to_excel(\"cleaned_transactions.xlsx\", index=False)\n",
    "\n",
    "# print(\"✅ Cleaned dataset saved as cleaned_transactions.xlsx\")\n",
    "\n",
    "\n",
    "print(df.dtypes)"
   ]
  },
  {
   "cell_type": "code",
   "execution_count": null,
   "id": "f56eb542-b084-40a7-9d3d-23e3e7806dd6",
   "metadata": {},
   "outputs": [],
   "source": []
  }
 ],
 "metadata": {
  "kernelspec": {
   "display_name": "Python 3 (ipykernel)",
   "language": "python",
   "name": "python3"
  },
  "language_info": {
   "codemirror_mode": {
    "name": "ipython",
    "version": 3
   },
   "file_extension": ".py",
   "mimetype": "text/x-python",
   "name": "python",
   "nbconvert_exporter": "python",
   "pygments_lexer": "ipython3",
   "version": "3.10.0"
  }
 },
 "nbformat": 4,
 "nbformat_minor": 5
}
